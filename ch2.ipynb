{
 "cells": [
  {
   "cell_type": "code",
   "execution_count": 4,
   "id": "abc9003b-af7b-4e52-a54e-a1111d0269d4",
   "metadata": {},
   "outputs": [],
   "source": [
    "import numpy as np\n",
    "import pandas as pd\n",
    "import matplotlib.pyplot as plt\n",
    "from lifelines import ExponentialFitter\n",
    "plt.style.use('bmh')"
   ]
  },
  {
   "cell_type": "markdown",
   "id": "b6146b06-5de3-4187-b8c1-1e7dfb362a52",
   "metadata": {},
   "source": [
    "# Estimating Survival Distribution"
   ]
  },
  {
   "cell_type": "code",
   "execution_count": 5,
   "id": "a4c4d5e5-17f2-4f46-afa9-d5766a284550",
   "metadata": {},
   "outputs": [],
   "source": [
    "veteran_df = pd.read_csv('./data/veteran.csv')"
   ]
  },
  {
   "cell_type": "code",
   "execution_count": 6,
   "id": "8f07d2c2-5169-4334-b747-015db8bfb82c",
   "metadata": {},
   "outputs": [
    {
     "data": {
      "text/html": [
       "<div>\n",
       "<style scoped>\n",
       "    .dataframe tbody tr th:only-of-type {\n",
       "        vertical-align: middle;\n",
       "    }\n",
       "\n",
       "    .dataframe tbody tr th {\n",
       "        vertical-align: top;\n",
       "    }\n",
       "\n",
       "    .dataframe thead th {\n",
       "        text-align: right;\n",
       "    }\n",
       "</style>\n",
       "<table border=\"1\" class=\"dataframe\">\n",
       "  <thead>\n",
       "    <tr style=\"text-align: right;\">\n",
       "      <th></th>\n",
       "      <th>Unnamed: 0</th>\n",
       "      <th>trt</th>\n",
       "      <th>celltype</th>\n",
       "      <th>time</th>\n",
       "      <th>status</th>\n",
       "      <th>karno</th>\n",
       "      <th>diagtime</th>\n",
       "      <th>age</th>\n",
       "      <th>prior</th>\n",
       "    </tr>\n",
       "  </thead>\n",
       "  <tbody>\n",
       "    <tr>\n",
       "      <th>0</th>\n",
       "      <td>1</td>\n",
       "      <td>1</td>\n",
       "      <td>squamous</td>\n",
       "      <td>72</td>\n",
       "      <td>1</td>\n",
       "      <td>60</td>\n",
       "      <td>7</td>\n",
       "      <td>69</td>\n",
       "      <td>0</td>\n",
       "    </tr>\n",
       "    <tr>\n",
       "      <th>1</th>\n",
       "      <td>2</td>\n",
       "      <td>1</td>\n",
       "      <td>squamous</td>\n",
       "      <td>411</td>\n",
       "      <td>1</td>\n",
       "      <td>70</td>\n",
       "      <td>5</td>\n",
       "      <td>64</td>\n",
       "      <td>10</td>\n",
       "    </tr>\n",
       "    <tr>\n",
       "      <th>2</th>\n",
       "      <td>3</td>\n",
       "      <td>1</td>\n",
       "      <td>squamous</td>\n",
       "      <td>228</td>\n",
       "      <td>1</td>\n",
       "      <td>60</td>\n",
       "      <td>3</td>\n",
       "      <td>38</td>\n",
       "      <td>0</td>\n",
       "    </tr>\n",
       "    <tr>\n",
       "      <th>3</th>\n",
       "      <td>4</td>\n",
       "      <td>1</td>\n",
       "      <td>squamous</td>\n",
       "      <td>126</td>\n",
       "      <td>1</td>\n",
       "      <td>60</td>\n",
       "      <td>9</td>\n",
       "      <td>63</td>\n",
       "      <td>10</td>\n",
       "    </tr>\n",
       "    <tr>\n",
       "      <th>4</th>\n",
       "      <td>5</td>\n",
       "      <td>1</td>\n",
       "      <td>squamous</td>\n",
       "      <td>118</td>\n",
       "      <td>1</td>\n",
       "      <td>70</td>\n",
       "      <td>11</td>\n",
       "      <td>65</td>\n",
       "      <td>10</td>\n",
       "    </tr>\n",
       "  </tbody>\n",
       "</table>\n",
       "</div>"
      ],
      "text/plain": [
       "   Unnamed: 0  trt  celltype  time  status  karno  diagtime  age  prior\n",
       "0           1    1  squamous    72       1     60         7   69      0\n",
       "1           2    1  squamous   411       1     70         5   64     10\n",
       "2           3    1  squamous   228       1     60         3   38      0\n",
       "3           4    1  squamous   126       1     60         9   63     10\n",
       "4           5    1  squamous   118       1     70        11   65     10"
      ]
     },
     "execution_count": 6,
     "metadata": {},
     "output_type": "execute_result"
    }
   ],
   "source": [
    "veteran_df.head()"
   ]
  },
  {
   "cell_type": "markdown",
   "id": "8508a4d0-d2ed-461b-9bc9-31a68c10b6e1",
   "metadata": {},
   "source": [
    "- `status`: censoring status (survive: 1 or not: 0)\n",
    "- `trt`: treatment group 1 & 2\n",
    "- `time`"
   ]
  },
  {
   "cell_type": "code",
   "execution_count": 9,
   "id": "7e440b48-9def-4b43-8702-2ca1077f7b6e",
   "metadata": {},
   "outputs": [],
   "source": [
    "veteran_df_1= veteran_df[veteran_df[\"trt\"] == 1] # Group 1"
   ]
  },
  {
   "cell_type": "code",
   "execution_count": 10,
   "id": "3314bfb0-559d-4319-be65-eff195d85e5a",
   "metadata": {},
   "outputs": [],
   "source": [
    "epf = ExponentialFitter().fit(veteran_df_1['time'], veteran_df_1['status'])"
   ]
  },
  {
   "cell_type": "code",
   "execution_count": 23,
   "id": "13d7acd9-66b1-452c-8205-f8c344eee59d",
   "metadata": {},
   "outputs": [
    {
     "data": {
      "image/png": "[encoded data removed]",
      "text/plain": [
       "<Figure size 640x480 with 1 Axes>"
      ]
     },
     "metadata": {},
     "output_type": "display_data"
    }
   ],
   "source": [
    "epf.plot_survival_function(label=r'Survival $S(t)$').legend();\n",
    "epf.plot_hazard(label=r'Hazard $h(t)$').legend();\n",
    "plt.xlabel(r'$t$ [months]');\n",
    "plt.ylabel(r'Probability');\n",
    "plt.xlim([0, 600]);\n",
    "plt.ylim([0, 1]);"
   ]
  },
  {
   "cell_type": "markdown",
   "id": "bdf359f8-6c8b-41f5-8539-c8a2865bbd1d",
   "metadata": {},
   "source": [
    "# Predicting Survival Probability"
   ]
  },
  {
   "cell_type": "code",
   "execution_count": 24,
   "id": "4d78e9bc-78b4-44c3-92a3-b825aa2c8d07",
   "metadata": {},
   "outputs": [],
   "source": [
    "from sklearn.model_selection import train_test_split"
   ]
  },
  {
   "cell_type": "code",
   "execution_count": 26,
   "id": "f613e851-0232-4017-a824-7d423bc4a956",
   "metadata": {},
   "outputs": [],
   "source": [
    "train, test = train_test_split(veteran_df_1) # 75% train + 25% test"
   ]
  },
  {
   "cell_type": "code",
   "execution_count": 27,
   "id": "51101842-0816-4056-929a-0ab6d76b2d89",
   "metadata": {},
   "outputs": [],
   "source": [
    "trained_epf = ExponentialFitter().fit(train['time'], train['status'])"
   ]
  },
  {
   "cell_type": "code",
   "execution_count": 28,
   "id": "6378c293-0d76-4884-b583-c17e11cc743f",
   "metadata": {},
   "outputs": [],
   "source": [
    "estimated_sp = trained_epf.predict(test['time'])"
   ]
  },
  {
   "cell_type": "code",
   "execution_count": 29,
   "id": "1a6b525c-3d1b-48f4-8a1b-4ae7a4648b02",
   "metadata": {},
   "outputs": [
    {
     "data": {
      "text/plain": [
       "18     0.865909\n",
       "18     0.865909\n",
       "42     0.714664\n",
       "18     0.865909\n",
       "18     0.865909\n",
       "100    0.449390\n",
       "110    0.414845\n",
       "56     0.638953\n",
       "260    0.124974\n",
       "151    0.298856\n",
       "4      0.968512\n",
       "287    0.100700\n",
       "162    0.273684\n",
       "177    0.242741\n",
       "384    0.046353\n",
       "35     0.755820\n",
       "8      0.938015\n",
       "63     0.604161\n",
       "182    0.233225\n",
       "12     0.908479\n",
       "Name: Exponential_estimate, dtype: float64"
      ]
     },
     "execution_count": 29,
     "metadata": {},
     "output_type": "execute_result"
    }
   ],
   "source": [
    "estimated_sp"
   ]
  },
  {
   "cell_type": "markdown",
   "id": "25166d7e-9cd6-451d-b02d-d8944aaf82e4",
   "metadata": {},
   "source": [
    "# Computing Accuracy"
   ]
  },
  {
   "cell_type": "code",
   "execution_count": 30,
   "id": "f6bf6cd5-f44a-473c-a636-786ed0ff03b0",
   "metadata": {},
   "outputs": [],
   "source": [
    "import math"
   ]
  },
  {
   "cell_type": "code",
   "execution_count": 32,
   "id": "937fc671-12b5-4092-812a-b61b2e3626ba",
   "metadata": {},
   "outputs": [],
   "source": [
    "def brier_score(actual, estimated):\n",
    "    n = len(actual)\n",
    "    error = 0\n",
    "    for i in range(n):\n",
    "        error += math.pow(estimated.iloc[i]-actual.iloc[i], 2)\n",
    "    return error/n"
   ]
  },
  {
   "cell_type": "code",
   "execution_count": 35,
   "id": "64984074-4c5f-4e84-b0b6-bddbfef41ea5",
   "metadata": {},
   "outputs": [
    {
     "data": {
      "text/plain": [
       "0.357"
      ]
     },
     "execution_count": 35,
     "metadata": {},
     "output_type": "execute_result"
    }
   ],
   "source": [
    "round(brier_score(test['status'], 1 - estimated_sp), 3) # lumayan tapi bs diimprove pake model yg lebih bagus"
   ]
  },
  {
   "cell_type": "code",
   "execution_count": null,
   "id": "be97fb57-1f76-4831-ad7d-ba6dbc3e70eb",
   "metadata": {},
   "outputs": [],
   "source": []
  },
  {
   "cell_type": "code",
   "execution_count": null,
   "id": "e58df36d-be55-4006-855e-92e4116b0f96",
   "metadata": {},
   "outputs": [],
   "source": []
  }
 ],
 "metadata": {
  "kernelspec": {
   "display_name": "Python 3 (ipykernel)",
   "language": "python",
   "name": "python3"
  },
  "language_info": {
   "codemirror_mode": {
    "name": "ipython",
    "version": 3
   },
   "file_extension": ".py",
   "mimetype": "text/x-python",
   "name": "python",
   "nbconvert_exporter": "python",
   "pygments_lexer": "ipython3",
   "version": "3.11.7"
  }
 },
 "nbformat": 4,
 "nbformat_minor": 5
}
