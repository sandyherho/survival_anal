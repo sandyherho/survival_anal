import numpy as np
import pandas as pd
import matplotlib.pyplot as plt
import math
plt.style.use('bmh')





from scipy.stats import weibull_min


shape = 5
scale = .001
weibull_samples = weibull_min.rvs(shape, 0, scale, size=1000)
pd.DataFrame(weibull_samples).plot(kind='density')
plt.legend(['Weibull'])





df = pd.read_csv('./data/stanford2.csv')
df.head()


from sklearn.model_selection import train_test_split
from lifelines import WeibullFitter


train, test = train_test_split(df)
wbf = WeibullFitter().fit(train['time'], train['status'])


fig, axs = plt.subplots(3, figsize=(8, 8), sharex=True)

wbf.plot_survival_function(label=r'Survival $S(t)$', ax=axs[0]).legend();
axs[0].set_ylabel('Probability');

wbf.plot_hazard(label=r'Hazard $h(t)$', ax=axs[1]).legend();
axs[1].set_ylabel('Probability');

wbf.plot_cumulative_hazard(label=r'Cumulative hazard $H(t)$', ax=axs[2]).legend();
axs[2].set_ylabel('Probability');
axs[2].set_xlabel('Time');





wbf.lambda_, wbf.rho_


def brier_score(actual, estimated):
    n = len(actual)
    error = 0
    for i in range(n):
        error += math.pow(estimated.iloc[i]-actual.iloc[i], 2)
    return error/n


estimated_sp = wbf.predict(test['time'])
brier_score(test['status'], 1 - estimated_sp)
