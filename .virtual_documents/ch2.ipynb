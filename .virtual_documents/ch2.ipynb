import numpy as np
import pandas as pd
import matplotlib.pyplot as plt
from lifelines import ExponentialFitter
plt.style.use('bmh')





veteran_df = pd.read_csv('./data/veteran.csv')


veteran_df.head()





veteran_df_1= veteran_df[veteran_df["trt"] == 1] # Group 1


epf = ExponentialFitter().fit(veteran_df_1['time'], veteran_df_1['status'])


epf.plot_survival_function(label=r'Survival $S(t)$').legend();
epf.plot_hazard(label=r'Hazard $h(t)$').legend();
plt.xlabel(r'$t$ [months]');
plt.ylabel(r'Probability');
plt.xlim([0, 600]);
plt.ylim([0, 1]);





from sklearn.model_selection import train_test_split


train, test = train_test_split(veteran_df_1) # 75% train + 25% test


trained_epf = ExponentialFitter().fit(train['time'], train['status'])


estimated_sp = trained_epf.predict(test['time'])


estimated_sp





import math


def brier_score(actual, estimated):
    n = len(actual)
    error = 0
    for i in range(n):
        error += math.pow(estimated.iloc[i]-actual.iloc[i], 2)
    return error/n


round(brier_score(test['status'], 1 - estimated_sp), 3) # lumayan tapi bs diimprove pake model yg lebih bagus
