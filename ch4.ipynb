{
 "cells": [
  {
   "cell_type": "code",
   "execution_count": 1,
   "id": "6b2684af-f056-4d35-a51e-cd8878674f59",
   "metadata": {},
   "outputs": [],
   "source": [
    "import numpy as np\n",
    "import pandas as pd\n",
    "import matplotlib.pyplot as plt\n",
    "import math\n",
    "plt.style.use('bmh')"
   ]
  },
  {
   "cell_type": "markdown",
   "id": "b2f3ec89-7eba-427f-9d41-a74417d3aa62",
   "metadata": {},
   "source": [
    "# Kaplan-Meier Estimator"
   ]
  },
  {
   "cell_type": "code",
   "execution_count": 2,
   "id": "9d5e367b-71c3-416b-b857-3ad410361f10",
   "metadata": {},
   "outputs": [
    {
     "data": {
      "text/html": [
       "<div>\n",
       "<style scoped>\n",
       "    .dataframe tbody tr th:only-of-type {\n",
       "        vertical-align: middle;\n",
       "    }\n",
       "\n",
       "    .dataframe tbody tr th {\n",
       "        vertical-align: top;\n",
       "    }\n",
       "\n",
       "    .dataframe thead th {\n",
       "        text-align: right;\n",
       "    }\n",
       "</style>\n",
       "<table border=\"1\" class=\"dataframe\">\n",
       "  <thead>\n",
       "    <tr style=\"text-align: right;\">\n",
       "      <th></th>\n",
       "      <th>Unnamed: 0</th>\n",
       "      <th>id</th>\n",
       "      <th>time</th>\n",
       "      <th>status</th>\n",
       "      <th>age</th>\n",
       "      <th>t5</th>\n",
       "    </tr>\n",
       "  </thead>\n",
       "  <tbody>\n",
       "    <tr>\n",
       "      <th>0</th>\n",
       "      <td>139</td>\n",
       "      <td>139</td>\n",
       "      <td>86.0</td>\n",
       "      <td>1</td>\n",
       "      <td>12</td>\n",
       "      <td>1.26</td>\n",
       "    </tr>\n",
       "    <tr>\n",
       "      <th>1</th>\n",
       "      <td>159</td>\n",
       "      <td>159</td>\n",
       "      <td>10.0</td>\n",
       "      <td>1</td>\n",
       "      <td>13</td>\n",
       "      <td>1.49</td>\n",
       "    </tr>\n",
       "    <tr>\n",
       "      <th>2</th>\n",
       "      <td>181</td>\n",
       "      <td>181</td>\n",
       "      <td>60.0</td>\n",
       "      <td>0</td>\n",
       "      <td>13</td>\n",
       "      <td>NaN</td>\n",
       "    </tr>\n",
       "    <tr>\n",
       "      <th>3</th>\n",
       "      <td>119</td>\n",
       "      <td>119</td>\n",
       "      <td>1116.0</td>\n",
       "      <td>0</td>\n",
       "      <td>14</td>\n",
       "      <td>0.54</td>\n",
       "    </tr>\n",
       "    <tr>\n",
       "      <th>4</th>\n",
       "      <td>74</td>\n",
       "      <td>74</td>\n",
       "      <td>2006.0</td>\n",
       "      <td>0</td>\n",
       "      <td>15</td>\n",
       "      <td>1.26</td>\n",
       "    </tr>\n",
       "  </tbody>\n",
       "</table>\n",
       "</div>"
      ],
      "text/plain": [
       "   Unnamed: 0   id    time  status  age    t5\n",
       "0         139  139    86.0       1   12  1.26\n",
       "1         159  159    10.0       1   13  1.49\n",
       "2         181  181    60.0       0   13   NaN\n",
       "3         119  119  1116.0       0   14  0.54\n",
       "4          74   74  2006.0       0   15  1.26"
      ]
     },
     "execution_count": 2,
     "metadata": {},
     "output_type": "execute_result"
    }
   ],
   "source": [
    "df = pd.read_csv('./data/stanford2.csv')\n",
    "df.head()"
   ]
  },
  {
   "cell_type": "markdown",
   "id": "e9771553-1a9f-4a39-880f-ab9e76d84434",
   "metadata": {},
   "source": [
    "* Total risk set size: 184\n",
    "* Sort the records by `time` column\n",
    "* Check how many deaths happened in each time instance"
   ]
  },
  {
   "cell_type": "code",
   "execution_count": 5,
   "id": "28fa348e-ea3f-4d68-9d37-ee9a08665f0c",
   "metadata": {},
   "outputs": [],
   "source": [
    "df_sorted = df.sort_values(by=['time'])\n",
    "event_counts = df_sorted[df_sorted['status'] == 1].groupby('time').size().reset_index(name='event/death')"
   ]
  },
  {
   "cell_type": "code",
   "execution_count": 6,
   "id": "32cb9996-d224-4549-82ab-489d9785b715",
   "metadata": {},
   "outputs": [
    {
     "data": {
      "image/png": "[encoded data removed]",
      "text/plain": [
       "<Figure size 640x480 with 1 Axes>"
      ]
     },
     "metadata": {},
     "output_type": "display_data"
    }
   ],
   "source": [
    "event_counts.plot(x='time', y='event/death');"
   ]
  },
  {
   "cell_type": "markdown",
   "id": "7d2b112f-efa6-499f-8f28-94b393b533fb",
   "metadata": {},
   "source": [
    "For few time instances, there are multiple deaths, hense $d_i > 1$"
   ]
  },
  {
   "cell_type": "code",
   "execution_count": 7,
   "id": "76c0fb32-d843-4fd3-93d9-0a1d6243ba56",
   "metadata": {},
   "outputs": [
    {
     "data": {
      "text/html": [
       "<div>\n",
       "<style scoped>\n",
       "    .dataframe tbody tr th:only-of-type {\n",
       "        vertical-align: middle;\n",
       "    }\n",
       "\n",
       "    .dataframe tbody tr th {\n",
       "        vertical-align: top;\n",
       "    }\n",
       "\n",
       "    .dataframe thead th {\n",
       "        text-align: right;\n",
       "    }\n",
       "</style>\n",
       "<table border=\"1\" class=\"dataframe\">\n",
       "  <thead>\n",
       "    <tr style=\"text-align: right;\">\n",
       "      <th></th>\n",
       "      <th>Unnamed: 0</th>\n",
       "      <th>id</th>\n",
       "      <th>time</th>\n",
       "      <th>status</th>\n",
       "      <th>age</th>\n",
       "      <th>t5</th>\n",
       "    </tr>\n",
       "  </thead>\n",
       "  <tbody>\n",
       "    <tr>\n",
       "      <th>71</th>\n",
       "      <td>21</td>\n",
       "      <td>21</td>\n",
       "      <td>0.5</td>\n",
       "      <td>1</td>\n",
       "      <td>41</td>\n",
       "      <td>0.87</td>\n",
       "    </tr>\n",
       "    <tr>\n",
       "      <th>171</th>\n",
       "      <td>16</td>\n",
       "      <td>16</td>\n",
       "      <td>1.0</td>\n",
       "      <td>1</td>\n",
       "      <td>54</td>\n",
       "      <td>0.47</td>\n",
       "    </tr>\n",
       "    <tr>\n",
       "      <th>22</th>\n",
       "      <td>184</td>\n",
       "      <td>184</td>\n",
       "      <td>1.0</td>\n",
       "      <td>0</td>\n",
       "      <td>27</td>\n",
       "      <td>NaN</td>\n",
       "    </tr>\n",
       "    <tr>\n",
       "      <th>15</th>\n",
       "      <td>133</td>\n",
       "      <td>133</td>\n",
       "      <td>1.0</td>\n",
       "      <td>1</td>\n",
       "      <td>21</td>\n",
       "      <td>0.47</td>\n",
       "    </tr>\n",
       "    <tr>\n",
       "      <th>60</th>\n",
       "      <td>183</td>\n",
       "      <td>183</td>\n",
       "      <td>2.0</td>\n",
       "      <td>0</td>\n",
       "      <td>39</td>\n",
       "      <td>NaN</td>\n",
       "    </tr>\n",
       "    <tr>\n",
       "      <th>...</th>\n",
       "      <td>...</td>\n",
       "      <td>...</td>\n",
       "      <td>...</td>\n",
       "      <td>...</td>\n",
       "      <td>...</td>\n",
       "      <td>...</td>\n",
       "    </tr>\n",
       "    <tr>\n",
       "      <th>141</th>\n",
       "      <td>25</td>\n",
       "      <td>25</td>\n",
       "      <td>2878.0</td>\n",
       "      <td>1</td>\n",
       "      <td>49</td>\n",
       "      <td>0.75</td>\n",
       "    </tr>\n",
       "    <tr>\n",
       "      <th>39</th>\n",
       "      <td>38</td>\n",
       "      <td>38</td>\n",
       "      <td>2984.0</td>\n",
       "      <td>0</td>\n",
       "      <td>32</td>\n",
       "      <td>0.19</td>\n",
       "    </tr>\n",
       "    <tr>\n",
       "      <th>59</th>\n",
       "      <td>36</td>\n",
       "      <td>36</td>\n",
       "      <td>3021.0</td>\n",
       "      <td>0</td>\n",
       "      <td>38</td>\n",
       "      <td>0.98</td>\n",
       "    </tr>\n",
       "    <tr>\n",
       "      <th>101</th>\n",
       "      <td>26</td>\n",
       "      <td>26</td>\n",
       "      <td>3410.0</td>\n",
       "      <td>0</td>\n",
       "      <td>45</td>\n",
       "      <td>0.98</td>\n",
       "    </tr>\n",
       "    <tr>\n",
       "      <th>70</th>\n",
       "      <td>19</td>\n",
       "      <td>19</td>\n",
       "      <td>3695.0</td>\n",
       "      <td>0</td>\n",
       "      <td>40</td>\n",
       "      <td>0.38</td>\n",
       "    </tr>\n",
       "  </tbody>\n",
       "</table>\n",
       "<p>184 rows × 6 columns</p>\n",
       "</div>"
      ],
      "text/plain": [
       "     Unnamed: 0   id    time  status  age    t5\n",
       "71           21   21     0.5       1   41  0.87\n",
       "171          16   16     1.0       1   54  0.47\n",
       "22          184  184     1.0       0   27   NaN\n",
       "15          133  133     1.0       1   21  0.47\n",
       "60          183  183     2.0       0   39   NaN\n",
       "..          ...  ...     ...     ...  ...   ...\n",
       "141          25   25  2878.0       1   49  0.75\n",
       "39           38   38  2984.0       0   32  0.19\n",
       "59           36   36  3021.0       0   38  0.98\n",
       "101          26   26  3410.0       0   45  0.98\n",
       "70           19   19  3695.0       0   40  0.38\n",
       "\n",
       "[184 rows x 6 columns]"
      ]
     },
     "execution_count": 7,
     "metadata": {},
     "output_type": "execute_result"
    }
   ],
   "source": [
    "df_sorted"
   ]
  },
  {
   "cell_type": "code",
   "execution_count": 10,
   "id": "4db0884f-4fbe-4d11-af15-7ed2a429d9ab",
   "metadata": {},
   "outputs": [
    {
     "data": {
      "text/plain": [
       "<lifelines.KaplanMeierFitter:\"KM_estimate\", fitted with 184 total observations, 71 right-censored observations>"
      ]
     },
     "execution_count": 10,
     "metadata": {},
     "output_type": "execute_result"
    }
   ],
   "source": [
    "from lifelines import KaplanMeierFitter\n",
    "kmft = KaplanMeierFitter()\n",
    "kmft.fit(df_sorted['time'], df_sorted['status'])"
   ]
  },
  {
   "cell_type": "code",
   "execution_count": 11,
   "id": "356b1df6-2d30-499e-bfa9-91aaf650ad97",
   "metadata": {},
   "outputs": [
    {
     "data": {
      "image/png": "[encoded data removed]",
      "text/plain": [
       "<Figure size 640x480 with 1 Axes>"
      ]
     },
     "metadata": {},
     "output_type": "display_data"
    }
   ],
   "source": [
    "kmft.plot_survival_function();"
   ]
  },
  {
   "cell_type": "code",
   "execution_count": 12,
   "id": "58540af8-196b-4c9e-9afb-336df886fc08",
   "metadata": {},
   "outputs": [
    {
     "data": {
      "text/html": [
       "<div>\n",
       "<style scoped>\n",
       "    .dataframe tbody tr th:only-of-type {\n",
       "        vertical-align: middle;\n",
       "    }\n",
       "\n",
       "    .dataframe tbody tr th {\n",
       "        vertical-align: top;\n",
       "    }\n",
       "\n",
       "    .dataframe thead th {\n",
       "        text-align: right;\n",
       "    }\n",
       "</style>\n",
       "<table border=\"1\" class=\"dataframe\">\n",
       "  <thead>\n",
       "    <tr style=\"text-align: right;\">\n",
       "      <th></th>\n",
       "      <th>KM_estimate</th>\n",
       "    </tr>\n",
       "  </thead>\n",
       "  <tbody>\n",
       "    <tr>\n",
       "      <th>1.5</th>\n",
       "      <td>0.983696</td>\n",
       "    </tr>\n",
       "    <tr>\n",
       "      <th>2878.0</th>\n",
       "      <td>0.154919</td>\n",
       "    </tr>\n",
       "    <tr>\n",
       "      <th>3500.0</th>\n",
       "      <td>0.154919</td>\n",
       "    </tr>\n",
       "  </tbody>\n",
       "</table>\n",
       "</div>"
      ],
      "text/plain": [
       "        KM_estimate\n",
       "1.5        0.983696\n",
       "2878.0     0.154919\n",
       "3500.0     0.154919"
      ]
     },
     "execution_count": 12,
     "metadata": {},
     "output_type": "execute_result"
    }
   ],
   "source": [
    "pd.DataFrame(kmft.survival_function_at_times(times=[1.5, 2878, 3500]))"
   ]
  },
  {
   "cell_type": "markdown",
   "id": "82bc2a44-4eed-44d2-b702-c7db702e01d1",
   "metadata": {},
   "source": [
    "* 2878 $\\rightarrow$ Avail\n",
    "* 1.5 & 3500 $\\rightarrow$ No"
   ]
  },
  {
   "cell_type": "code",
   "execution_count": null,
   "id": "1212e3ca-8070-4560-99a2-8b814116358c",
   "metadata": {},
   "outputs": [],
   "source": []
  }
 ],
 "metadata": {
  "kernelspec": {
   "display_name": "Python 3 (ipykernel)",
   "language": "python",
   "name": "python3"
  },
  "language_info": {
   "codemirror_mode": {
    "name": "ipython",
    "version": 3
   },
   "file_extension": ".py",
   "mimetype": "text/x-python",
   "name": "python",
   "nbconvert_exporter": "python",
   "pygments_lexer": "ipython3",
   "version": "3.11.7"
  }
 },
 "nbformat": 4,
 "nbformat_minor": 5
}
